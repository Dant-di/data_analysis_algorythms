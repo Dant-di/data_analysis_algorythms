{
 "cells": [
  {
   "cell_type": "code",
   "execution_count": null,
   "outputs": [],
   "source": [],
   "metadata": {
    "collapsed": false,
    "pycharm": {
     "name": "#%%\n"
    }
   }
  },
  {
   "cell_type": "markdown",
   "source": [
    "## Домашнее задание"
   ],
   "metadata": {
    "collapsed": false
   }
  },
  {
   "cell_type": "markdown",
   "source": [
    "1. *Измените функцию calc_logloss так, чтобы нули по возможности не попадали в np.log."
   ],
   "metadata": {
    "collapsed": false
   }
  },
  {
   "cell_type": "code",
   "execution_count": 259,
   "outputs": [],
   "source": [
    "import numpy as np"
   ],
   "metadata": {
    "collapsed": false,
    "pycharm": {
     "name": "#%%\n"
    }
   }
  },
  {
   "cell_type": "code",
   "execution_count": 260,
   "outputs": [],
   "source": [
    "X = np.array([ [   1,    1,  500,    1],\n",
    "               [   1,    1,  700,    1],\n",
    "               [   1,    2,  750,    2],\n",
    "               [   1,    5,  600,    1],\n",
    "               [   1,    3, 1450,    2],\n",
    "               [   1,    0,  800,    1],\n",
    "               [   1,    5, 1500,    3],\n",
    "               [   1,   10, 2000,    3],\n",
    "               [   1,    1,  450,    1],\n",
    "               [   1,    2, 1000,    2]], dtype=np.float64)\n",
    "\n",
    "y = np.array([0, 0, 1, 0, 1, 0, 1, 0, 1, 1], dtype=np.float64)"
   ],
   "metadata": {
    "collapsed": false,
    "pycharm": {
     "name": "#%%\n"
    }
   }
  },
  {
   "cell_type": "code",
   "execution_count": 261,
   "outputs": [],
   "source": [
    "def standard_scale(x):\n",
    "    res = (x - x.mean()) / x.std()\n",
    "    return res"
   ],
   "metadata": {
    "collapsed": false,
    "pycharm": {
     "name": "#%%\n"
    }
   }
  },
  {
   "cell_type": "code",
   "execution_count": 262,
   "outputs": [],
   "source": [
    "X_st = X.copy()\n",
    "X_st[:, 2] = standard_scale(X[:, 2])"
   ],
   "metadata": {
    "collapsed": false,
    "pycharm": {
     "name": "#%%\n"
    }
   }
  },
  {
   "cell_type": "code",
   "execution_count": 394,
   "outputs": [
    {
     "data": {
      "text/plain": "array([[ 1.        ,  1.        , -0.97958969,  1.        ],\n       [ 1.        ,  1.        , -0.56713087,  1.        ],\n       [ 1.        ,  2.        , -0.46401617,  2.        ],\n       [ 1.        ,  5.        , -0.77336028,  1.        ],\n       [ 1.        ,  3.        ,  0.97958969,  2.        ],\n       [ 1.        ,  0.        , -0.36090146,  1.        ],\n       [ 1.        ,  5.        ,  1.08270439,  3.        ],\n       [ 1.        , 10.        ,  2.11385144,  3.        ],\n       [ 1.        ,  1.        , -1.08270439,  1.        ],\n       [ 1.        ,  2.        ,  0.05155735,  2.        ]])"
     },
     "execution_count": 394,
     "metadata": {},
     "output_type": "execute_result"
    }
   ],
   "source": [
    "X_st"
   ],
   "metadata": {
    "collapsed": false,
    "pycharm": {
     "name": "#%%\n"
    }
   }
  },
  {
   "cell_type": "code",
   "execution_count": 298,
   "outputs": [],
   "source": [
    "def calc_logloss(y, y_pred):\n",
    "    # Изменение\n",
    "    # Позаимствуем метод обхода логарифма от нуля у библиотеки scikitlearn, а именно clipping =)\n",
    "    eps = 1e-15\n",
    "    y_pred = np.clip(y_pred, eps, 1 - eps)\n",
    "    err = - np.mean(y * np.log(y_pred) + (1.0 - y) * np.log(1.0 - y_pred))\n",
    "    return err"
   ],
   "metadata": {
    "collapsed": false,
    "pycharm": {
     "name": "#%%\n"
    }
   }
  },
  {
   "cell_type": "code",
   "execution_count": 265,
   "outputs": [
    {
     "data": {
      "text/plain": "0.164252033486018"
     },
     "execution_count": 265,
     "metadata": {},
     "output_type": "execute_result"
    }
   ],
   "source": [
    "# Пример применения\n",
    "y1 = np.array([1, 0])\n",
    "y_pred1 = np.array([0.8, 0.1])\n",
    "calc_logloss(y1, y_pred1)"
   ],
   "metadata": {
    "collapsed": false,
    "pycharm": {
     "name": "#%%\n"
    }
   }
  },
  {
   "cell_type": "code",
   "execution_count": 266,
   "outputs": [
    {
     "data": {
      "text/plain": "0.11157177565710535"
     },
     "execution_count": 266,
     "metadata": {},
     "output_type": "execute_result"
    }
   ],
   "source": [
    "# Плохой пример применения (теперь тоже работает)\n",
    "\n",
    "y1 = np.array([1, 0])\n",
    "y_pred1 = np.array([1, 0.2])\n",
    "calc_logloss(y1, y_pred1)"
   ],
   "metadata": {
    "collapsed": false,
    "pycharm": {
     "name": "#%%\n"
    }
   }
  },
  {
   "cell_type": "markdown",
   "source": [
    "2. Подберите аргументы функции eval_model для логистической регрессии таким образом, чтобы log loss был минимальным.\n"
   ],
   "metadata": {
    "collapsed": false
   }
  },
  {
   "cell_type": "markdown",
   "source": [
    "При использовании модифицированной функции calc_logloss можно брать сколь угодно большие скорости обучения и количества итераций, но log loss будет стремиться к 0, постоянно убывая (проверено на значениях iterations = 10000 и eta = 40. Подбор буду осуществлять на оригинальном коде."
   ],
   "metadata": {
    "collapsed": false,
    "pycharm": {
     "name": "#%% md\n"
    }
   }
  },
  {
   "cell_type": "code",
   "execution_count": 436,
   "outputs": [],
   "source": [
    "def calc_logloss_2(y, y_pred):\n",
    "    err = - np.mean(y * np.log(y_pred) + (1.0 - y) * np.log(1.0 - y_pred))\n",
    "    return err"
   ],
   "metadata": {
    "collapsed": false,
    "pycharm": {
     "name": "#%%\n"
    }
   }
  },
  {
   "cell_type": "code",
   "execution_count": 437,
   "outputs": [],
   "source": [
    "def sigmoid(z):\n",
    "    res = 1 / (1 + np.exp(-z))\n",
    "    return res"
   ],
   "metadata": {
    "collapsed": false,
    "pycharm": {
     "name": "#%%\n"
    }
   }
  },
  {
   "cell_type": "code",
   "execution_count": 438,
   "outputs": [],
   "source": [
    "def eval_model_2(X, y, iterations, eta=1e-4):\n",
    "    np.random.seed(42)\n",
    "    W = np.random.randn(X.shape[1])\n",
    "    n = X.shape[0]\n",
    "\n",
    "    for i in range(iterations):\n",
    "        z = np.dot(X, W)\n",
    "        y_pred = sigmoid(z)\n",
    "        err = calc_logloss_2(y, y_pred)\n",
    "\n",
    "        dQ = 1/n * X.T @ (y_pred - y)\n",
    "        W -= eta * dQ\n",
    "        if i % 100 == 0:\n",
    "            print(f'Iteration = {i}, Weight = {W}, Error = {err}')\n",
    "    return W"
   ],
   "metadata": {
    "collapsed": false,
    "pycharm": {
     "name": "#%%\n"
    }
   }
  },
  {
   "cell_type": "markdown",
   "source": [
    "Сначала подбирался параметр скорости обучения, затем количество итераций. Минимального значения, до сваливания в ошибку получилось достичь после 5500 итераций при скорости обучения = 5."
   ],
   "metadata": {
    "collapsed": false,
    "pycharm": {
     "name": "#%% md\n"
    }
   }
  },
  {
   "cell_type": "code",
   "execution_count": 439,
   "outputs": [],
   "source": [
    "iterations = 5501\n",
    "eta_test = 5"
   ],
   "metadata": {
    "collapsed": false,
    "pycharm": {
     "name": "#%%\n"
    }
   }
  },
  {
   "cell_type": "code",
   "execution_count": 440,
   "outputs": [
    {
     "name": "stdout",
     "output_type": "stream",
     "text": [
      "Iteration = 0, Weight = [-1.40022026 -7.39264425  0.51078644 -1.30770149], Error = 1.1785958344356262\n",
      "Iteration = 100, Weight = [-14.42116087  -6.28104638   1.50430271  20.14877699], Error = 0.8242173408675708\n",
      "Iteration = 200, Weight = [-23.67230529  -7.31994095  -3.89264328  22.78628394], Error = 0.7983723120964876\n",
      "Iteration = 300, Weight = [-27.55331732  -3.05193129  -7.09618596  23.12211961], Error = 0.13337672340681184\n",
      "Iteration = 400, Weight = [-29.723293    -3.09355345  -7.90612742  24.58322249], Error = 0.12535956242626906\n",
      "Iteration = 500, Weight = [-31.32069311  -3.22958293  -8.36802298  25.85947687], Error = 0.12065914563762077\n",
      "Iteration = 600, Weight = [-32.67264268  -3.45206575  -8.63242156  27.14759072], Error = 0.11717278975339813\n",
      "Iteration = 700, Weight = [-33.50399014  -3.40627271  -9.00741596  27.58454765], Error = 0.11486092970998182\n",
      "Iteration = 800, Weight = [-34.21712122  -3.46945859  -9.20939879  28.1582381 ], Error = 0.11309487255472887\n",
      "Iteration = 900, Weight = [-34.90582477  -3.5311269   -9.40357634  28.71333317], Error = 0.11144599013250614\n",
      "Iteration = 1000, Weight = [-35.57263383  -3.59074074  -9.59157572  29.25035937], Error = 0.10990126464849985\n",
      "Iteration = 1100, Weight = [-36.21923915  -3.6483929   -9.77390827  29.77073454], Error = 0.10844957833070985\n",
      "Iteration = 1200, Weight = [-36.84717037  -3.70424433  -9.95101491  30.27568807], Error = 0.10708136610085787\n",
      "Iteration = 1300, Weight = [-37.45778709  -3.75841793 -10.12329033  30.76633144], Error = 0.10578835378849719\n",
      "Iteration = 1400, Weight = [-38.05230962  -3.81102427 -10.29108782  31.2436624 ], Error = 0.1045633467536706\n",
      "Iteration = 1500, Weight = [-38.63183711  -3.86216316 -10.4547248   31.70857967], Error = 0.10340005876272358\n",
      "Iteration = 1600, Weight = [-39.19736284  -3.91192498 -10.6144874   32.1618955 ], Error = 0.10229297237227089\n",
      "Iteration = 1700, Weight = [-39.74978717  -3.96039185 -10.77063441  32.60434623], Error = 0.10123722427679463\n",
      "Iteration = 1800, Weight = [-40.28992864  -4.00763854 -10.92340058  33.03660132], Error = 0.10022851057797096\n",
      "Iteration = 1900, Weight = [-40.81853343  -4.05373335 -11.07299949  33.45927114], Error = 0.09926300806076316\n",
      "Iteration = 2000, Weight = [-41.33628356  -4.09873883 -11.21962591  33.87291362], Error = 0.09833730841365171\n",
      "Iteration = 2100, Weight = [-41.84380388  -4.14271237 -11.363458    34.27804001], Error = 0.09744836298025554\n",
      "Iteration = 2200, Weight = [-42.34166825  -4.18570677 -11.50465904  34.67511988], Error = 0.09659343612884899\n",
      "Iteration = 2300, Weight = [-42.83040482  -4.22777071 -11.64337904  35.0645855 ], Error = 0.09577006571261601\n",
      "Iteration = 2400, Weight = [-43.3105007   -4.26894918 -11.77975612  35.4468356 ], Error = 0.09497602939447441\n",
      "Iteration = 2500, Weight = [-43.78240606  -4.3092838  -11.91391767  35.82223877], Error = 0.09420931584633664\n",
      "Iteration = 2600, Weight = [-44.24653768  -4.34881321 -12.04598148  36.19113633], Error = 0.09346810001892383\n",
      "Iteration = 2700, Weight = [-44.70328214  -4.38757329 -12.17605656  36.55384497], Error = 0.09275072182606833\n",
      "Iteration = 2800, Weight = [-45.15299861  -4.42559745 -12.30424407  36.910659  ], Error = 0.09205566770543683\n",
      "Iteration = 2900, Weight = [-45.59602134  -4.46291686 -12.43063795  37.26185243], Error = 0.09138155461229286\n",
      "Iteration = 3000, Weight = [-46.03266187  -4.49956062 -12.55532564  37.60768072], Error = 0.09072711607929017\n",
      "Iteration = 3100, Weight = [-46.463211    -4.53555597 -12.6783886   37.94838245], Error = 0.09009119003720137\n",
      "Iteration = 3200, Weight = [-46.88794056  -4.57092842 -12.79990283  38.28418074], Error = 0.08947270814189212\n",
      "Iteration = 3300, Weight = [-47.30710495  -4.60570194 -12.91993936  38.61528452], Error = 0.08887068639410953\n",
      "Iteration = 3400, Weight = [-47.72094264  -4.63989904 -13.03856464  38.94188975], Error = 0.0882842168725265\n",
      "Iteration = 3500, Weight = [-48.12967736  -4.67354092 -13.15584087  39.26418038], Error = 0.08771246042844623\n",
      "Iteration = 3600, Weight = [-48.5335193   -4.70664754 -13.27182641  39.58232939], Error = 0.08715464021371795\n",
      "Iteration = 3700, Weight = [-48.93266615  -4.73923778 -13.38657603  39.89649955], Error = 0.08661003593268654\n",
      "Iteration = 3800, Weight = [-49.32730403  -4.77132946 -13.50014117  40.20684427], Error = 0.08607797872503394\n",
      "Iteration = 3900, Weight = [-49.71760836  -4.80293944 -13.61257024  40.51350826], Error = 0.0855578465998621\n",
      "Iteration = 4000, Weight = [-50.1037446   -4.83408372 -13.72390878  40.81662815], Error = 0.0850490603526389\n",
      "Iteration = 4100, Weight = [-50.48586903  -4.86477746 -13.83419971  41.11633311], Error = 0.08455107990619184\n",
      "Iteration = 4200, Weight = [-50.86412933  -4.89503508 -13.9434835   41.41274537], Error = 0.0840634010249738\n",
      "Iteration = 4300, Weight = [-51.2386652   -4.92487028 -14.05179834  41.70598068], Error = 0.08358555235867797\n",
      "Iteration = 4400, Weight = [-51.60960889  -4.95429612 -14.15918029  41.99614876], Error = 0.08311709277709592\n",
      "Iteration = 4500, Weight = [-51.97708571  -4.98332503 -14.26566342  42.28335373], Error = 0.0826576089630741\n",
      "Iteration = 4600, Weight = [-52.34121448  -5.01196889 -14.37127997  42.56769444], Error = 0.0822067132346834\n",
      "Iteration = 4700, Weight = [-52.70210793  -5.04023906 -14.47606042  42.84926484], Error = 0.0817640415713477\n",
      "Iteration = 4800, Weight = [-53.05987312  -5.06814637 -14.58003364  43.12815429], Error = 0.08132925182182836\n",
      "Iteration = 4900, Weight = [-53.41461177  -5.09570121 -14.68322699  43.40444784], Error = 0.08090202207465154\n",
      "Iteration = 5000, Weight = [-53.76642057  -5.12291356 -14.78566636  43.6782265 ], Error = 0.08048204917391319\n",
      "Iteration = 5100, Weight = [-54.11539155  -5.14979295 -14.88737636  43.94956749], Error = 0.08006904736541556\n",
      "Iteration = 5200, Weight = [-54.46161227  -5.17634856 -14.98838029  44.21854447], Error = 0.07966274705984469\n",
      "Iteration = 5300, Weight = [-54.80516617  -5.2025892  -15.08870029  44.48522773], Error = 0.07926289370124204\n",
      "Iteration = 5400, Weight = [-55.14613274  -5.22852335 -15.18835739  44.74968443], Error = 0.07886924673033863\n",
      "Iteration = 5500, Weight = [-55.48458779  -5.25415917 -15.28737154  45.01197872], Error = 0.07848157863350183\n"
     ]
    }
   ],
   "source": [
    "W = eval_model_2(X_st, y, iterations, eta_test)"
   ],
   "metadata": {
    "collapsed": false,
    "pycharm": {
     "name": "#%%\n"
    }
   }
  },
  {
   "cell_type": "markdown",
   "source": [
    "3. Создайте функцию calc_pred_proba, возвращающую предсказанную вероятность класса 1 (на вход подаются W, который уже посчитан функцией eval_model и X, на выходе - массив y_pred_proba).\n"
   ],
   "metadata": {
    "collapsed": false
   }
  },
  {
   "cell_type": "code",
   "execution_count": 441,
   "outputs": [],
   "source": [
    "def calc_pred_proba(W, X):\n",
    "    y_pred_proba = np.squeeze(sigmoid(np.dot(X, W)))\n",
    "    return y_pred_proba"
   ],
   "metadata": {
    "collapsed": false,
    "pycharm": {
     "name": "#%%\n"
    }
   }
  },
  {
   "cell_type": "code",
   "execution_count": 445,
   "outputs": [
    {
     "data": {
      "text/plain": "(10,)"
     },
     "execution_count": 445,
     "metadata": {},
     "output_type": "execute_result"
    }
   ],
   "source": [
    "pred = calc_pred_proba(W, X_st)\n",
    "pred"
   ],
   "metadata": {
    "collapsed": false,
    "pycharm": {
     "name": "#%%\n"
    }
   }
  },
  {
   "cell_type": "markdown",
   "source": [
    "4. Создайте функцию calc_pred, возвращающую предсказанный класс (на вход подаются W, который уже посчитан функцией eval_model и X, на выходе - массив y_pred)."
   ],
   "metadata": {
    "collapsed": false
   }
  },
  {
   "cell_type": "code",
   "execution_count": 446,
   "outputs": [],
   "source": [
    "def calc_pred(W, X):\n",
    "\n",
    "    y_predicted = np.zeros(np.shape(X)[0])\n",
    "\n",
    "    y_pred_proba = np.squeeze(sigmoid(np.dot(X, W)))\n",
    "\n",
    "    for i in range(len(y_pred_proba)):\n",
    "        if y_pred_proba[i] > 0.5:\n",
    "            y_predicted[i] = 1\n",
    "        elif y_pred_proba[i] <= 0.5:\n",
    "            y_predicted[i] = 0\n",
    "\n",
    "    return y_predicted"
   ],
   "metadata": {
    "collapsed": false,
    "pycharm": {
     "name": "#%%\n"
    }
   }
  },
  {
   "cell_type": "code",
   "execution_count": 447,
   "outputs": [
    {
     "data": {
      "text/plain": "array([0., 0., 1., 0., 1., 0., 1., 0., 1., 1.])"
     },
     "execution_count": 447,
     "metadata": {},
     "output_type": "execute_result"
    }
   ],
   "source": [
    "calc_pred(W, X_st)"
   ],
   "metadata": {
    "collapsed": false,
    "pycharm": {
     "name": "#%%\n"
    }
   }
  },
  {
   "cell_type": "markdown",
   "source": [
    "5. *Реализуйте функции для подсчета Accuracy, матрицы ошибок, точности и полноты, а также F1 score."
   ],
   "metadata": {
    "collapsed": false
   }
  },
  {
   "cell_type": "code",
   "execution_count": 470,
   "outputs": [],
   "source": [
    "y = np.array([1, 1, 0, 1, 0, 0, 1, 0, 1, 0])\n",
    "y_pred = np.array([1, 1, 1, 0, 1, 0, 1, 0, 1, 0])"
   ],
   "metadata": {
    "collapsed": false,
    "pycharm": {
     "name": "#%%\n"
    }
   }
  },
  {
   "cell_type": "code",
   "execution_count": 471,
   "outputs": [],
   "source": [
    "def accuracy(y_true, y_pred):\n",
    "    score = 0\n",
    "    for i in range(y_true.shape[0]):\n",
    "        if y_true[i] == y_pred[i]:\n",
    "            score += 1\n",
    "    return score/y_true.shape[0]"
   ],
   "metadata": {
    "collapsed": false,
    "pycharm": {
     "name": "#%%\n"
    }
   }
  },
  {
   "cell_type": "code",
   "execution_count": 472,
   "outputs": [
    {
     "data": {
      "text/plain": "0.7"
     },
     "execution_count": 472,
     "metadata": {},
     "output_type": "execute_result"
    }
   ],
   "source": [
    "accuracy(y, y_pred)"
   ],
   "metadata": {
    "collapsed": false,
    "pycharm": {
     "name": "#%%\n"
    }
   }
  },
  {
   "cell_type": "code",
   "execution_count": 473,
   "outputs": [],
   "source": [
    "def conf_matrix(y_true, y_pred):\n",
    "    tp, fp, fn, tn = 0,0,0,0\n",
    "    for i in range(y_true.shape[0]):\n",
    "        if y_true[i] == 1 and  y_pred[i] == 1:\n",
    "            tp+=1\n",
    "        elif y_true[i] == 0 and  y_pred[i] == 1:\n",
    "            fp+=1\n",
    "        elif y_true[i] == 1 and  y_pred[i] == 0:\n",
    "            fn+=1\n",
    "        else:\n",
    "            tn+=1\n",
    "    matrix = np.array([[tp, fp], [fn, tn]])\n",
    "    return matrix\n"
   ],
   "metadata": {
    "collapsed": false,
    "pycharm": {
     "name": "#%%\n"
    }
   }
  },
  {
   "cell_type": "code",
   "execution_count": 474,
   "outputs": [
    {
     "data": {
      "text/plain": "array([[4, 2],\n       [1, 3]])"
     },
     "execution_count": 474,
     "metadata": {},
     "output_type": "execute_result"
    }
   ],
   "source": [
    "conf_matrix(y, y_pred)\n"
   ],
   "metadata": {
    "collapsed": false,
    "pycharm": {
     "name": "#%%\n"
    }
   }
  },
  {
   "cell_type": "code",
   "execution_count": 476,
   "outputs": [],
   "source": [
    "def precision(y_true, y_pred):\n",
    "    matrix = conf_matrix(y_true, y_pred)\n",
    "\n",
    "    return matrix[0][0]/(matrix[0][0] + matrix[0][1])"
   ],
   "metadata": {
    "collapsed": false,
    "pycharm": {
     "name": "#%%\n"
    }
   }
  },
  {
   "cell_type": "code",
   "execution_count": 477,
   "outputs": [
    {
     "data": {
      "text/plain": "0.6666666666666666"
     },
     "execution_count": 477,
     "metadata": {},
     "output_type": "execute_result"
    }
   ],
   "source": [
    "precision(y, y_pred)"
   ],
   "metadata": {
    "collapsed": false,
    "pycharm": {
     "name": "#%%\n"
    }
   }
  },
  {
   "cell_type": "code",
   "execution_count": 478,
   "outputs": [],
   "source": [
    "def recall(y_true, y_pred):\n",
    "    matrix = conf_matrix(y_true, y_pred)\n",
    "    return matrix[0][0]/(matrix[0][0] + matrix[1][0])"
   ],
   "metadata": {
    "collapsed": false,
    "pycharm": {
     "name": "#%%\n"
    }
   }
  },
  {
   "cell_type": "code",
   "execution_count": 479,
   "outputs": [
    {
     "data": {
      "text/plain": "0.8"
     },
     "execution_count": 479,
     "metadata": {},
     "output_type": "execute_result"
    }
   ],
   "source": [
    "recall(y, y_pred)"
   ],
   "metadata": {
    "collapsed": false,
    "pycharm": {
     "name": "#%%\n"
    }
   }
  },
  {
   "cell_type": "code",
   "execution_count": 480,
   "outputs": [],
   "source": [
    "def f1(y_true, y_pred):\n",
    "    return 2*(precision(y_true, y_pred)*recall(y_true, y_pred))/(precision(y_true, y_pred) + recall(y_true, y_pred))"
   ],
   "metadata": {
    "collapsed": false,
    "pycharm": {
     "name": "#%%\n"
    }
   }
  },
  {
   "cell_type": "code",
   "execution_count": 481,
   "outputs": [
    {
     "data": {
      "text/plain": "0.7272727272727272"
     },
     "execution_count": 481,
     "metadata": {},
     "output_type": "execute_result"
    }
   ],
   "source": [
    "f1(y, y_pred)"
   ],
   "metadata": {
    "collapsed": false,
    "pycharm": {
     "name": "#%%\n"
    }
   }
  },
  {
   "cell_type": "markdown",
   "source": [
    "Проверим правильность написанных функций."
   ],
   "metadata": {
    "collapsed": false,
    "pycharm": {
     "name": "#%% md\n"
    }
   }
  },
  {
   "cell_type": "code",
   "execution_count": 448,
   "outputs": [],
   "source": [
    "from sklearn.metrics import accuracy_score, confusion_matrix, precision_score, recall_score, f1_score"
   ],
   "metadata": {
    "collapsed": false,
    "pycharm": {
     "name": "#%%\n"
    }
   }
  },
  {
   "cell_type": "code",
   "execution_count": 489,
   "outputs": [
    {
     "name": "stdout",
     "output_type": "stream",
     "text": [
      "True\n",
      "True\n",
      "True\n",
      "True\n",
      "[[False  True]\n",
      " [ True False]]\n"
     ]
    }
   ],
   "source": [
    "print(accuracy(y,y_pred) == accuracy_score(y,y_pred))\n",
    "print(precision(y, y_pred) == precision_score(y, y_pred))\n",
    "print(recall(y,y_pred) == recall_score(y, y_pred))\n",
    "print(f1(y, y_pred) == f1_score(y, y_pred))\n",
    "print(conf_matrix(y,y_pred) == confusion_matrix(y, y_pred))"
   ],
   "metadata": {
    "collapsed": false,
    "pycharm": {
     "name": "#%%\n"
    }
   }
  },
  {
   "cell_type": "code",
   "execution_count": 491,
   "outputs": [
    {
     "data": {
      "text/plain": "(array([[4, 2],\n        [1, 3]]),\n array([[3, 2],\n        [1, 4]], dtype=int64))"
     },
     "execution_count": 491,
     "metadata": {},
     "output_type": "execute_result"
    }
   ],
   "source": [
    "conf_matrix(y,y_pred), confusion_matrix(y, y_pred)"
   ],
   "metadata": {
    "collapsed": false,
    "pycharm": {
     "name": "#%%\n"
    }
   }
  },
  {
   "cell_type": "markdown",
   "source": [
    "Разница в матрицах вызвана различным представлением TP и TN. Я делал на основании материала, представленного в уроке. Sklearn имеет другое представление (выдержка из официальной документации):\n",
    "###### Thus in binary classification, the count of true negatives is $C_{0,0}$ , false negatives is $C_{1,0}$, true positives is $C_{1,1}$ and false positives is $C_{0,1}$.\n"
   ],
   "metadata": {
    "collapsed": false,
    "pycharm": {
     "name": "#%% md\n"
    }
   }
  },
  {
   "cell_type": "markdown",
   "source": [
    "6. Могла ли модель переобучиться? Почему?"
   ],
   "metadata": {
    "collapsed": false
   }
  },
  {
   "cell_type": "markdown",
   "source": [
    "Я считаю что да, так как при очень большом количестве итераций, log loss стремится к 0 (как было видно в задании 2) и веса подгоняются под идеальные для данного набора данных и соответственно на другом наборе данных модель не сможет сделать корректного предсказания."
   ],
   "metadata": {
    "collapsed": false,
    "pycharm": {
     "name": "#%% md\n"
    }
   }
  },
  {
   "cell_type": "code",
   "execution_count": null,
   "outputs": [],
   "source": [],
   "metadata": {
    "collapsed": false,
    "pycharm": {
     "name": "#%%\n"
    }
   }
  }
 ],
 "metadata": {
  "kernelspec": {
   "display_name": "Python 3",
   "language": "python",
   "name": "python3"
  },
  "language_info": {
   "codemirror_mode": {
    "name": "ipython",
    "version": 2
   },
   "file_extension": ".py",
   "mimetype": "text/x-python",
   "name": "python",
   "nbconvert_exporter": "python",
   "pygments_lexer": "ipython2",
   "version": "2.7.6"
  }
 },
 "nbformat": 4,
 "nbformat_minor": 0
}